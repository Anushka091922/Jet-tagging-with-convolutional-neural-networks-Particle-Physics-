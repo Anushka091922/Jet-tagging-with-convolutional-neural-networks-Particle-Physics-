{
  "cells": [
    {
      "cell_type": "markdown",
      "metadata": {
        "id": "view-in-github",
        "colab_type": "text"
      },
      "source": [
        "<a href=\"https://colab.research.google.com/github/Anushka091922/Jet-tagging-with-convolutional-neural-networks-Particle-Physics-/blob/main/Gradient_Descent.ipynb\" target=\"_parent\"><img src=\"https://colab.research.google.com/assets/colab-badge.svg\" alt=\"Open In Colab\"/></a>"
      ]
    },
    {
      "cell_type": "markdown",
      "id": "4375c2f8-249a-4f6d-8089-2b647bd83ecb",
      "metadata": {
        "id": "4375c2f8-249a-4f6d-8089-2b647bd83ecb"
      },
      "source": [
        "#Gradient descent"
      ]
    },
    {
      "cell_type": "markdown",
      "id": "5e790193-a383-4447-a178-0d4c5c746d83",
      "metadata": {
        "id": "5e790193-a383-4447-a178-0d4c5c746d83"
      },
      "source": [
        "## Setup"
      ]
    },
    {
      "cell_type": "code",
      "execution_count": null,
      "id": "f648626c-7646-4dea-9834-6769828b8d52",
      "metadata": {
        "id": "f648626c-7646-4dea-9834-6769828b8d52"
      },
      "outputs": [],
      "source": [
        "\n",
        "%pip install fastai==2.6.0"
      ]
    },
    {
      "cell_type": "markdown",
      "id": "699fa5d4-0c13-4e79-821c-e2701c4279c3",
      "metadata": {
        "tags": [],
        "id": "699fa5d4-0c13-4e79-821c-e2701c4279c3"
      },
      "source": [
        "## Imports"
      ]
    },
    {
      "cell_type": "code",
      "execution_count": null,
      "id": "73261150-b566-48b0-812f-293e97564d7c",
      "metadata": {
        "id": "73261150-b566-48b0-812f-293e97564d7c"
      },
      "outputs": [],
      "source": [
        "import torch\n",
        "from fastai.tabular.all import *\n",
        "from tqdm.auto import tqdm"
      ]
    },
    {
      "cell_type": "markdown",
      "id": "7c021731-28ce-4c4e-a823-1aef76109e6e",
      "metadata": {
        "id": "7c021731-28ce-4c4e-a823-1aef76109e6e"
      },
      "source": [
        "## Stochastic gradient descent"
      ]
    },
    {
      "cell_type": "markdown",
      "id": "8ffd764e-bcf8-4a05-843e-6e0f04622c08",
      "metadata": {
        "id": "8ffd764e-bcf8-4a05-843e-6e0f04622c08"
      },
      "source": [
        "### Calculating gradients"
      ]
    },
    {
      "cell_type": "code",
      "execution_count": null,
      "id": "c8e8500c-e93a-47d8-9e23-caa7c0ff1eea",
      "metadata": {
        "id": "c8e8500c-e93a-47d8-9e23-caa7c0ff1eea"
      },
      "outputs": [],
      "source": [
        "def f(x):\n",
        "    return x**2"
      ]
    },
    {
      "cell_type": "code",
      "execution_count": null,
      "id": "08b05fe2-33de-41ed-8e7d-a673fe46db0d",
      "metadata": {
        "id": "08b05fe2-33de-41ed-8e7d-a673fe46db0d",
        "outputId": "fbf870ab-0c21-415a-cd60-22c431123398",
        "colab": {
          "base_uri": "https://localhost:8080/"
        }
      },
      "outputs": [
        {
          "output_type": "execute_result",
          "data": {
            "text/plain": [
              "tensor(3., requires_grad=True)"
            ]
          },
          "metadata": {},
          "execution_count": 4
        }
      ],
      "source": [
        "xt = torch.tensor(3.0, requires_grad=True)\n",
        "xt"
      ]
    },
    {
      "cell_type": "code",
      "execution_count": null,
      "id": "45a4497c-e407-4b89-aec3-b84f1002c1f9",
      "metadata": {
        "id": "45a4497c-e407-4b89-aec3-b84f1002c1f9",
        "outputId": "572bd0cd-6716-488b-a140-4eb16918ecfd",
        "colab": {
          "base_uri": "https://localhost:8080/"
        }
      },
      "outputs": [
        {
          "output_type": "execute_result",
          "data": {
            "text/plain": [
              "tensor(9., grad_fn=<PowBackward0>)"
            ]
          },
          "metadata": {},
          "execution_count": 5
        }
      ],
      "source": [
        "yt = f(xt)\n",
        "yt"
      ]
    },
    {
      "cell_type": "code",
      "execution_count": null,
      "id": "a7c4e735-8957-4ccf-9177-37ddcb288f49",
      "metadata": {
        "id": "a7c4e735-8957-4ccf-9177-37ddcb288f49"
      },
      "outputs": [],
      "source": [
        "yt.backward()"
      ]
    },
    {
      "cell_type": "code",
      "execution_count": null,
      "id": "834d56d8-c1c3-4481-8e5c-15662883a71c",
      "metadata": {
        "id": "834d56d8-c1c3-4481-8e5c-15662883a71c",
        "outputId": "0d2cb266-e2ec-4d8b-b295-c664b3bcd77d",
        "colab": {
          "base_uri": "https://localhost:8080/"
        }
      },
      "outputs": [
        {
          "output_type": "execute_result",
          "data": {
            "text/plain": [
              "tensor(6.)"
            ]
          },
          "metadata": {},
          "execution_count": 7
        }
      ],
      "source": [
        "xt.grad"
      ]
    },
    {
      "cell_type": "code",
      "execution_count": null,
      "id": "26ce9687-a5fc-4a0a-84c8-9ad8c53e625a",
      "metadata": {
        "id": "26ce9687-a5fc-4a0a-84c8-9ad8c53e625a",
        "outputId": "ec01e0fd-95dd-4727-b7c3-e5d58b07460f",
        "colab": {
          "base_uri": "https://localhost:8080/"
        }
      },
      "outputs": [
        {
          "output_type": "execute_result",
          "data": {
            "text/plain": [
              "tensor([ 3.,  4., 10.], requires_grad=True)"
            ]
          },
          "metadata": {},
          "execution_count": 8
        }
      ],
      "source": [
        "xt = torch.tensor([3.0, 4.0, 10.0], requires_grad=True)\n",
        "xt"
      ]
    },
    {
      "cell_type": "code",
      "execution_count": null,
      "id": "8a482427-0955-4bb8-a4e5-8329feda1ed7",
      "metadata": {
        "id": "8a482427-0955-4bb8-a4e5-8329feda1ed7",
        "outputId": "b550a8e9-ee63-4738-f66b-711361449153",
        "colab": {
          "base_uri": "https://localhost:8080/"
        }
      },
      "outputs": [
        {
          "output_type": "execute_result",
          "data": {
            "text/plain": [
              "tensor(125., grad_fn=<SumBackward0>)"
            ]
          },
          "metadata": {},
          "execution_count": 9
        }
      ],
      "source": [
        "def f(x):\n",
        "    return (x**2).sum()\n",
        "\n",
        "\n",
        "yt = f(xt)\n",
        "yt"
      ]
    },
    {
      "cell_type": "code",
      "execution_count": null,
      "id": "af068326-575b-4af6-9a7c-6ff62abc211f",
      "metadata": {
        "id": "af068326-575b-4af6-9a7c-6ff62abc211f",
        "outputId": "8220de24-a5da-4868-8767-91935a0d2d91",
        "colab": {
          "base_uri": "https://localhost:8080/"
        }
      },
      "outputs": [
        {
          "output_type": "execute_result",
          "data": {
            "text/plain": [
              "tensor([ 6.,  8., 20.])"
            ]
          },
          "metadata": {},
          "execution_count": 10
        }
      ],
      "source": [
        "yt.backward()\n",
        "xt.grad"
      ]
    },
    {
      "cell_type": "markdown",
      "id": "3fc3e03e-8518-4639-aee2-f3c59b3a5a6a",
      "metadata": {
        "id": "3fc3e03e-8518-4639-aee2-f3c59b3a5a6a"
      },
      "source": [
        "## For Example"
      ]
    },
    {
      "cell_type": "code",
      "execution_count": null,
      "id": "33e7ffd2-6bb8-40c1-8e66-43d9886dd008",
      "metadata": {
        "id": "33e7ffd2-6bb8-40c1-8e66-43d9886dd008"
      },
      "outputs": [],
      "source": [
        "time = torch.arange(0, 20).float()"
      ]
    },
    {
      "cell_type": "code",
      "execution_count": null,
      "id": "d1606a74-afa6-446a-a24e-3369c4035e96",
      "metadata": {
        "id": "d1606a74-afa6-446a-a24e-3369c4035e96",
        "outputId": "c1679a17-04d6-4b9c-d603-353e3dd74c3f",
        "colab": {
          "base_uri": "https://localhost:8080/",
          "height": 430
        }
      },
      "outputs": [
        {
          "output_type": "display_data",
          "data": {
            "text/plain": [
              "<Figure size 640x480 with 1 Axes>"
            ],
            "image/png": "[encoded data removed]"
          },
          "metadata": {}
        }
      ],
      "source": [
        "signal = torch.randn(20) * 3 + 0.75 * (time - 9.5) ** 2 + 1  # 1 * (time - 10) ** 2 + 1\n",
        "plt.scatter(time, signal);"
      ]
    },
    {
      "cell_type": "code",
      "execution_count": null,
      "id": "248c3b59-54ee-4ed5-a545-cd832bc997f3",
      "metadata": {
        "id": "248c3b59-54ee-4ed5-a545-cd832bc997f3"
      },
      "outputs": [],
      "source": [
        "def f(t, params):\n",
        "    a, b, c = params\n",
        "    return a * (t**2) + (b * t) + c"
      ]
    },
    {
      "cell_type": "code",
      "execution_count": null,
      "id": "d046fe1b-bfe0-4778-8fc4-7cf11250b2ee",
      "metadata": {
        "id": "d046fe1b-bfe0-4778-8fc4-7cf11250b2ee"
      },
      "outputs": [],
      "source": [
        "def mse(preds, targets):\n",
        "    return ((preds - targets) ** 2).mean()"
      ]
    },
    {
      "cell_type": "markdown",
      "id": "5d4f01e8-f930-4d8c-bceb-e8d9c392288c",
      "metadata": {
        "id": "5d4f01e8-f930-4d8c-bceb-e8d9c392288c"
      },
      "source": [
        "### Step 1: Initialize the parameters"
      ]
    },
    {
      "cell_type": "code",
      "execution_count": null,
      "id": "1a89a2b1-4034-4699-97de-46465338cc78",
      "metadata": {
        "id": "1a89a2b1-4034-4699-97de-46465338cc78",
        "outputId": "cfd30ee0-bd1f-4f37-9e25-74c7c941efbb",
        "colab": {
          "base_uri": "https://localhost:8080/"
        }
      },
      "outputs": [
        {
          "output_type": "execute_result",
          "data": {
            "text/plain": [
              "tensor([-2.1188,  0.0635, -1.4555], requires_grad=True)"
            ]
          },
          "metadata": {},
          "execution_count": 15
        }
      ],
      "source": [
        "set_seed(666)\n",
        "params = torch.randn(3).requires_grad_()\n",
        "params"
      ]
    },
    {
      "cell_type": "markdown",
      "id": "3b2fd45d-8aec-4167-bbae-426b0a0e50ee",
      "metadata": {
        "id": "3b2fd45d-8aec-4167-bbae-426b0a0e50ee"
      },
      "source": [
        "### Step 2: Calculate the predictions"
      ]
    },
    {
      "cell_type": "code",
      "execution_count": null,
      "id": "34dc48b8-bad8-4d99-b995-45d63781e470",
      "metadata": {
        "id": "34dc48b8-bad8-4d99-b995-45d63781e470",
        "outputId": "a0aa08a5-0091-42b3-d264-d8ba744e3420",
        "colab": {
          "base_uri": "https://localhost:8080/"
        }
      },
      "outputs": [
        {
          "output_type": "execute_result",
          "data": {
            "text/plain": [
              "torch.Size([20])"
            ]
          },
          "metadata": {},
          "execution_count": 16
        }
      ],
      "source": [
        "preds = f(time, params)\n",
        "preds.shape"
      ]
    },
    {
      "cell_type": "code",
      "execution_count": null,
      "id": "d1d1f620-560a-4799-bb16-0c2902c1cf37",
      "metadata": {
        "id": "d1d1f620-560a-4799-bb16-0c2902c1cf37",
        "outputId": "7bedf266-b371-4e62-9546-b16b11cd0519",
        "colab": {
          "base_uri": "https://localhost:8080/",
          "height": 430
        }
      },
      "outputs": [
        {
          "output_type": "display_data",
          "data": {
            "text/plain": [
              "<Figure size 640x480 with 1 Axes>"
            ],
            "image/png": "[encoded data removed]"
          },
          "metadata": {}
        }
      ],
      "source": [
        "def show_preds(preds, ax=None):\n",
        "    if ax is None:\n",
        "        ax = plt.subplots()[1]\n",
        "    ax.scatter(time, signal)\n",
        "    ax.scatter(time, to_np(preds), color=\"red\")\n",
        "    plt.show()\n",
        "\n",
        "show_preds(preds)"
      ]
    },
    {
      "cell_type": "markdown",
      "id": "c99a4f0a-0d95-46ee-9fc3-c1ac81aa381d",
      "metadata": {
        "id": "c99a4f0a-0d95-46ee-9fc3-c1ac81aa381d"
      },
      "source": [
        "### Step 3: Calculate the loss"
      ]
    },
    {
      "cell_type": "code",
      "execution_count": null,
      "id": "20b5d66f-1d40-42ad-af6c-ad19aee5c9d7",
      "metadata": {
        "id": "20b5d66f-1d40-42ad-af6c-ad19aee5c9d7",
        "outputId": "7f6e2c46-5027-481d-e51b-4e576b13c2ec",
        "colab": {
          "base_uri": "https://localhost:8080/"
        }
      },
      "outputs": [
        {
          "output_type": "execute_result",
          "data": {
            "text/plain": [
              "tensor(143968.2188, grad_fn=<MeanBackward0>)"
            ]
          },
          "metadata": {},
          "execution_count": 18
        }
      ],
      "source": [
        "loss = mse(preds, signal)\n",
        "loss"
      ]
    },
    {
      "cell_type": "markdown",
      "id": "d7430731-4a93-474b-af62-1aec0b8e2c6b",
      "metadata": {
        "id": "d7430731-4a93-474b-af62-1aec0b8e2c6b"
      },
      "source": [
        "### Step 4: Calculate the gradients"
      ]
    },
    {
      "cell_type": "code",
      "execution_count": null,
      "id": "d624a6e3-d734-4b00-8e5c-f93b0de81904",
      "metadata": {
        "id": "d624a6e3-d734-4b00-8e5c-f93b0de81904",
        "outputId": "33a15291-5454-43c1-a4a6-efeed546da64",
        "colab": {
          "base_uri": "https://localhost:8080/"
        }
      },
      "outputs": [
        {
          "output_type": "execute_result",
          "data": {
            "text/plain": [
              "tensor([-126974.1172,   -8154.1045,    -578.2889])"
            ]
          },
          "metadata": {},
          "execution_count": 19
        }
      ],
      "source": [
        "loss.backward()\n",
        "params.grad"
      ]
    },
    {
      "cell_type": "markdown",
      "id": "486c0669-4a09-44d1-91fa-7afad8ee6ec5",
      "metadata": {
        "id": "486c0669-4a09-44d1-91fa-7afad8ee6ec5"
      },
      "source": [
        "### Step 5: Step the weights"
      ]
    },
    {
      "cell_type": "code",
      "execution_count": null,
      "id": "48074427-f33e-46e4-bbcf-9c4314780c34",
      "metadata": {
        "id": "48074427-f33e-46e4-bbcf-9c4314780c34"
      },
      "outputs": [],
      "source": [
        "lr = 1e-5\n",
        "params.data -= lr * params.data\n",
        "params.grad = None"
      ]
    },
    {
      "cell_type": "code",
      "execution_count": null,
      "id": "270db918-f088-427c-9e5b-024c6eba6506",
      "metadata": {
        "id": "270db918-f088-427c-9e5b-024c6eba6506",
        "outputId": "ab640525-8615-4fd2-e1ac-8e29466b7dc0",
        "colab": {
          "base_uri": "https://localhost:8080/"
        }
      },
      "outputs": [
        {
          "output_type": "execute_result",
          "data": {
            "text/plain": [
              "tensor(143965.5156, grad_fn=<MeanBackward0>)"
            ]
          },
          "metadata": {},
          "execution_count": 21
        }
      ],
      "source": [
        "preds = f(time, params)\n",
        "mse(preds, signal)"
      ]
    },
    {
      "cell_type": "code",
      "execution_count": null,
      "id": "fda0f160-a0e2-46e0-b81d-cbeed3715926",
      "metadata": {
        "id": "fda0f160-a0e2-46e0-b81d-cbeed3715926",
        "outputId": "1adceb23-131c-4b29-ad4d-7d6d764a5f67",
        "colab": {
          "base_uri": "https://localhost:8080/",
          "height": 430
        }
      },
      "outputs": [
        {
          "output_type": "display_data",
          "data": {
            "text/plain": [
              "<Figure size 640x480 with 1 Axes>"
            ],
            "image/png": "[encoded data removed]"
          },
          "metadata": {}
        }
      ],
      "source": [
        "show_preds(preds)"
      ]
    },
    {
      "cell_type": "code",
      "execution_count": null,
      "id": "005b2fb1-aa1e-49e1-8620-7b6e18a37c5c",
      "metadata": {
        "id": "005b2fb1-aa1e-49e1-8620-7b6e18a37c5c"
      },
      "outputs": [],
      "source": [
        "def apply_step(params, prn=True):\n",
        "    preds = f(time, params)\n",
        "    loss = mse(preds, signal)\n",
        "    loss.backward()\n",
        "    params.data -= lr * params.grad.data\n",
        "    params.grad = None\n",
        "    if prn:\n",
        "        print(f\"Loss: {loss.item()}\")\n",
        "    return preds"
      ]
    },
    {
      "cell_type": "markdown",
      "id": "4d512d32-833d-4eda-9619-193bd3bfe8bd",
      "metadata": {
        "id": "4d512d32-833d-4eda-9619-193bd3bfe8bd"
      },
      "source": [
        "### Step 6: Repeat the process"
      ]
    },
    {
      "cell_type": "code",
      "execution_count": null,
      "id": "6182f515-c8b0-442d-bc0a-5b688eb64733",
      "metadata": {
        "tags": [],
        "id": "6182f515-c8b0-442d-bc0a-5b688eb64733",
        "outputId": "a11d9950-5e85-46a4-da1a-f31b3ca9b564",
        "colab": {
          "referenced_widgets": [
            "595e57bd182e43de934d5e9fd975de93",
            "589581820e904d9eb46b2c1fe7c6da40",
            "01180e24fd0648d9a0ba4c9567e993e5",
            "a49bb8af7bdb473198f1d7700108b7b8",
            "9dfd5224780d40c4b275eb47cc240338",
            "1bf325b2ae5048e4b380d0288d2a751a",
            "1e3434272a0849978fa63b046c28edcb",
            "5ea8bd5cb50e4aedbc5afd17c33eb075",
            "8b38e3767bf44c8196362186cb6930df",
            "809f369c68814a39b393f0c7c3f0275b",
            "ea70d3339d574dd791759e8a0ada7158"
          ],
          "base_uri": "https://localhost:8080/",
          "height": 1000
        }
      },
      "outputs": [
        {
          "output_type": "display_data",
          "data": {
            "text/plain": [
              "  0%|          | 0/1000000 [00:00<?, ?it/s]"
            ],
            "application/vnd.jupyter.widget-view+json": {
              "version_major": 2,
              "version_minor": 0,
              "model_id": "595e57bd182e43de934d5e9fd975de93"
            }
          },
          "metadata": {}
        },
        {
          "output_type": "stream",
          "name": "stdout",
          "text": [
            "Iteration: 0\n",
            "Loss: 143965.515625\n"
          ]
        },
        {
          "output_type": "display_data",
          "data": {
            "text/plain": [
              "<Figure size 640x480 with 1 Axes>"
            ],
            "image/png": "[encoded data removed]"
          },
          "metadata": {}
        },
        {
          "output_type": "stream",
          "name": "stdout",
          "text": [
            "Iteration: 200000\n",
            "Loss: 250.51138305664062\n"
          ]
        },
        {
          "output_type": "display_data",
          "data": {
            "text/plain": [
              "<Figure size 640x480 with 1 Axes>"
            ],
            "image/png": "[encoded data removed]"
          },
          "metadata": {}
        },
        {
          "output_type": "stream",
          "name": "stdout",
          "text": [
            "Iteration: 400000\n",
            "Loss: 92.14946746826172\n"
          ]
        },
        {
          "output_type": "display_data",
          "data": {
            "text/plain": [
              "<Figure size 640x480 with 1 Axes>"
            ],
            "image/png": "[encoded data removed]"
          },
          "metadata": {}
        },
        {
          "output_type": "stream",
          "name": "stdout",
          "text": [
            "Iteration: 600000\n",
            "Loss: 35.88349151611328\n"
          ]
        },
        {
          "output_type": "display_data",
          "data": {
            "text/plain": [
              "<Figure size 640x480 with 1 Axes>"
            ],
            "image/png": "[encoded data removed]"
          },
          "metadata": {}
        },
        {
          "output_type": "stream",
          "name": "stdout",
          "text": [
            "Iteration: 800000\n",
            "Loss: 15.881726264953613\n"
          ]
        },
        {
          "output_type": "display_data",
          "data": {
            "text/plain": [
              "<Figure size 640x480 with 1 Axes>"
            ],
            "image/png": "[encoded data removed]"
          },
          "metadata": {}
        }
      ],
      "source": [
        "num_of_iterations = 1_000_000\n",
        "\n",
        "for iteration in tqdm(range(num_of_iterations)):\n",
        "    if iteration % 200_000 == 0:\n",
        "        print(f\"Iteration: {iteration}\")\n",
        "        apply_step(params, prn=True)\n",
        "        preds = f(time, params)\n",
        "        show_preds(preds)\n",
        "    else:\n",
        "        apply_step(params, prn=False)"
      ]
    },
    {
      "cell_type": "markdown",
      "id": "fa4cac8a-3a5d-4091-ab82-40f05ae0553e",
      "metadata": {
        "id": "fa4cac8a-3a5d-4091-ab82-40f05ae0553e"
      },
      "source": [
        "### Step 7: Stop"
      ]
    },
    {
      "cell_type": "code",
      "execution_count": null,
      "id": "aa6dd186-b18c-4d2c-9d6b-3c2d4aff7bdd",
      "metadata": {
        "id": "aa6dd186-b18c-4d2c-9d6b-3c2d4aff7bdd"
      },
      "outputs": [],
      "source": []
    }
  ],
  "metadata": {
    "kernelspec": {
      "display_name": "dl4phys",
      "language": "python",
      "name": "dl4phys"
    },
    "language_info": {
      "codemirror_mode": {
        "name": "ipython",
        "version": 3
      },
      "file_extension": ".py",
      "mimetype": "text/x-python",
      "name": "python",
      "nbconvert_exporter": "python",
      "pygments_lexer": "ipython3",
      "version": "3.8.13"
    },
    "colab": {
      "provenance": [],
      "include_colab_link": true
    },
    "accelerator": "TPU",
    "widgets": {
      "application/vnd.jupyter.widget-state+json": {
        "595e57bd182e43de934d5e9fd975de93": {
          "model_module": "@jupyter-widgets/controls",
          "model_name": "HBoxModel",
          "model_module_version": "1.5.0",
          "state": {
            "_dom_classes": [],
            "_model_module": "@jupyter-widgets/controls",
            "_model_module_version": "1.5.0",
            "_model_name": "HBoxModel",
            "_view_count": null,
            "_view_module": "@jupyter-widgets/controls",
            "_view_module_version": "1.5.0",
            "_view_name": "HBoxView",
            "box_style": "",
            "children": [
              "IPY_MODEL_589581820e904d9eb46b2c1fe7c6da40",
              "IPY_MODEL_01180e24fd0648d9a0ba4c9567e993e5",
              "IPY_MODEL_a49bb8af7bdb473198f1d7700108b7b8"
            ],
            "layout": "IPY_MODEL_9dfd5224780d40c4b275eb47cc240338"
          }
        },
        "589581820e904d9eb46b2c1fe7c6da40": {
          "model_module": "@jupyter-widgets/controls",
          "model_name": "HTMLModel",
          "model_module_version": "1.5.0",
          "state": {
            "_dom_classes": [],
            "_model_module": "@jupyter-widgets/controls",
            "_model_module_version": "1.5.0",
            "_model_name": "HTMLModel",
            "_view_count": null,
            "_view_module": "@jupyter-widgets/controls",
            "_view_module_version": "1.5.0",
            "_view_name": "HTMLView",
            "description": "",
            "description_tooltip": null,
            "layout": "IPY_MODEL_1bf325b2ae5048e4b380d0288d2a751a",
            "placeholder": "​",
            "style": "IPY_MODEL_1e3434272a0849978fa63b046c28edcb",
            "value": "100%"
          }
        },
        "01180e24fd0648d9a0ba4c9567e993e5": {
          "model_module": "@jupyter-widgets/controls",
          "model_name": "FloatProgressModel",
          "model_module_version": "1.5.0",
          "state": {
            "_dom_classes": [],
            "_model_module": "@jupyter-widgets/controls",
            "_model_module_version": "1.5.0",
            "_model_name": "FloatProgressModel",
            "_view_count": null,
            "_view_module": "@jupyter-widgets/controls",
            "_view_module_version": "1.5.0",
            "_view_name": "ProgressView",
            "bar_style": "success",
            "description": "",
            "description_tooltip": null,
            "layout": "IPY_MODEL_5ea8bd5cb50e4aedbc5afd17c33eb075",
            "max": 1000000,
            "min": 0,
            "orientation": "horizontal",
            "style": "IPY_MODEL_8b38e3767bf44c8196362186cb6930df",
            "value": 1000000
          }
        },
        "a49bb8af7bdb473198f1d7700108b7b8": {
          "model_module": "@jupyter-widgets/controls",
          "model_name": "HTMLModel",
          "model_module_version": "1.5.0",
          "state": {
            "_dom_classes": [],
            "_model_module": "@jupyter-widgets/controls",
            "_model_module_version": "1.5.0",
            "_model_name": "HTMLModel",
            "_view_count": null,
            "_view_module": "@jupyter-widgets/controls",
            "_view_module_version": "1.5.0",
            "_view_name": "HTMLView",
            "description": "",
            "description_tooltip": null,
            "layout": "IPY_MODEL_809f369c68814a39b393f0c7c3f0275b",
            "placeholder": "​",
            "style": "IPY_MODEL_ea70d3339d574dd791759e8a0ada7158",
            "value": " 1000000/1000000 [05:32&lt;00:00, 3696.04it/s]"
          }
        },
        "9dfd5224780d40c4b275eb47cc240338": {
          "model_module": "@jupyter-widgets/base",
          "model_name": "LayoutModel",
          "model_module_version": "1.2.0",
          "state": {
            "_model_module": "@jupyter-widgets/base",
            "_model_module_version": "1.2.0",
            "_model_name": "LayoutModel",
            "_view_count": null,
            "_view_module": "@jupyter-widgets/base",
            "_view_module_version": "1.2.0",
            "_view_name": "LayoutView",
            "align_content": null,
            "align_items": null,
            "align_self": null,
            "border": null,
            "bottom": null,
            "display": null,
            "flex": null,
            "flex_flow": null,
            "grid_area": null,
            "grid_auto_columns": null,
            "grid_auto_flow": null,
            "grid_auto_rows": null,
            "grid_column": null,
            "grid_gap": null,
            "grid_row": null,
            "grid_template_areas": null,
            "grid_template_columns": null,
            "grid_template_rows": null,
            "height": null,
            "justify_content": null,
            "justify_items": null,
            "left": null,
            "margin": null,
            "max_height": null,
            "max_width": null,
            "min_height": null,
            "min_width": null,
            "object_fit": null,
            "object_position": null,
            "order": null,
            "overflow": null,
            "overflow_x": null,
            "overflow_y": null,
            "padding": null,
            "right": null,
            "top": null,
            "visibility": null,
            "width": null
          }
        },
        "1bf325b2ae5048e4b380d0288d2a751a": {
          "model_module": "@jupyter-widgets/base",
          "model_name": "LayoutModel",
          "model_module_version": "1.2.0",
          "state": {
            "_model_module": "@jupyter-widgets/base",
            "_model_module_version": "1.2.0",
            "_model_name": "LayoutModel",
            "_view_count": null,
            "_view_module": "@jupyter-widgets/base",
            "_view_module_version": "1.2.0",
            "_view_name": "LayoutView",
            "align_content": null,
            "align_items": null,
            "align_self": null,
            "border": null,
            "bottom": null,
            "display": null,
            "flex": null,
            "flex_flow": null,
            "grid_area": null,
            "grid_auto_columns": null,
            "grid_auto_flow": null,
            "grid_auto_rows": null,
            "grid_column": null,
            "grid_gap": null,
            "grid_row": null,
            "grid_template_areas": null,
            "grid_template_columns": null,
            "grid_template_rows": null,
            "height": null,
            "justify_content": null,
            "justify_items": null,
            "left": null,
            "margin": null,
            "max_height": null,
            "max_width": null,
            "min_height": null,
            "min_width": null,
            "object_fit": null,
            "object_position": null,
            "order": null,
            "overflow": null,
            "overflow_x": null,
            "overflow_y": null,
            "padding": null,
            "right": null,
            "top": null,
            "visibility": null,
            "width": null
          }
        },
        "1e3434272a0849978fa63b046c28edcb": {
          "model_module": "@jupyter-widgets/controls",
          "model_name": "DescriptionStyleModel",
          "model_module_version": "1.5.0",
          "state": {
            "_model_module": "@jupyter-widgets/controls",
            "_model_module_version": "1.5.0",
            "_model_name": "DescriptionStyleModel",
            "_view_count": null,
            "_view_module": "@jupyter-widgets/base",
            "_view_module_version": "1.2.0",
            "_view_name": "StyleView",
            "description_width": ""
          }
        },
        "5ea8bd5cb50e4aedbc5afd17c33eb075": {
          "model_module": "@jupyter-widgets/base",
          "model_name": "LayoutModel",
          "model_module_version": "1.2.0",
          "state": {
            "_model_module": "@jupyter-widgets/base",
            "_model_module_version": "1.2.0",
            "_model_name": "LayoutModel",
            "_view_count": null,
            "_view_module": "@jupyter-widgets/base",
            "_view_module_version": "1.2.0",
            "_view_name": "LayoutView",
            "align_content": null,
            "align_items": null,
            "align_self": null,
            "border": null,
            "bottom": null,
            "display": null,
            "flex": null,
            "flex_flow": null,
            "grid_area": null,
            "grid_auto_columns": null,
            "grid_auto_flow": null,
            "grid_auto_rows": null,
            "grid_column": null,
            "grid_gap": null,
            "grid_row": null,
            "grid_template_areas": null,
            "grid_template_columns": null,
            "grid_template_rows": null,
            "height": null,
            "justify_content": null,
            "justify_items": null,
            "left": null,
            "margin": null,
            "max_height": null,
            "max_width": null,
            "min_height": null,
            "min_width": null,
            "object_fit": null,
            "object_position": null,
            "order": null,
            "overflow": null,
            "overflow_x": null,
            "overflow_y": null,
            "padding": null,
            "right": null,
            "top": null,
            "visibility": null,
            "width": null
          }
        },
        "8b38e3767bf44c8196362186cb6930df": {
          "model_module": "@jupyter-widgets/controls",
          "model_name": "ProgressStyleModel",
          "model_module_version": "1.5.0",
          "state": {
            "_model_module": "@jupyter-widgets/controls",
            "_model_module_version": "1.5.0",
            "_model_name": "ProgressStyleModel",
            "_view_count": null,
            "_view_module": "@jupyter-widgets/base",
            "_view_module_version": "1.2.0",
            "_view_name": "StyleView",
            "bar_color": null,
            "description_width": ""
          }
        },
        "809f369c68814a39b393f0c7c3f0275b": {
          "model_module": "@jupyter-widgets/base",
          "model_name": "LayoutModel",
          "model_module_version": "1.2.0",
          "state": {
            "_model_module": "@jupyter-widgets/base",
            "_model_module_version": "1.2.0",
            "_model_name": "LayoutModel",
            "_view_count": null,
            "_view_module": "@jupyter-widgets/base",
            "_view_module_version": "1.2.0",
            "_view_name": "LayoutView",
            "align_content": null,
            "align_items": null,
            "align_self": null,
            "border": null,
            "bottom": null,
            "display": null,
            "flex": null,
            "flex_flow": null,
            "grid_area": null,
            "grid_auto_columns": null,
            "grid_auto_flow": null,
            "grid_auto_rows": null,
            "grid_column": null,
            "grid_gap": null,
            "grid_row": null,
            "grid_template_areas": null,
            "grid_template_columns": null,
            "grid_template_rows": null,
            "height": null,
            "justify_content": null,
            "justify_items": null,
            "left": null,
            "margin": null,
            "max_height": null,
            "max_width": null,
            "min_height": null,
            "min_width": null,
            "object_fit": null,
            "object_position": null,
            "order": null,
            "overflow": null,
            "overflow_x": null,
            "overflow_y": null,
            "padding": null,
            "right": null,
            "top": null,
            "visibility": null,
            "width": null
          }
        },
        "ea70d3339d574dd791759e8a0ada7158": {
          "model_module": "@jupyter-widgets/controls",
          "model_name": "DescriptionStyleModel",
          "model_module_version": "1.5.0",
          "state": {
            "_model_module": "@jupyter-widgets/controls",
            "_model_module_version": "1.5.0",
            "_model_name": "DescriptionStyleModel",
            "_view_count": null,
            "_view_module": "@jupyter-widgets/base",
            "_view_module_version": "1.2.0",
            "_view_name": "StyleView",
            "description_width": ""
          }
        }
      }
    }
  },
  "nbformat": 4,
  "nbformat_minor": 5
}